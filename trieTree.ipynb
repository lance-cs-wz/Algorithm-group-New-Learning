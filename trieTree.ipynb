{
 "cells": [
  {
   "cell_type": "code",
   "execution_count": 1,
   "metadata": {},
   "outputs": [
    {
     "name": "stdout",
     "output_type": "stream",
     "text": [
      "3.8.3 (default, Jul  2 2020, 11:26:31) \n",
      "[Clang 10.0.0 ]\n"
     ]
    }
   ],
   "source": [
    "'''\n",
    "Trie树，字典树，前缀树。\n",
    "\n",
    "'''\n",
    "\n",
    "import sys\n",
    "print(sys.version)"
   ]
  },
  {
   "cell_type": "code",
   "execution_count": 2,
   "metadata": {},
   "outputs": [],
   "source": [
    "'''\n",
    "建立一棵仅支持ASCII码字符集合的树，对词频进行统计。\n",
    "ASCII ((American Standard Code for Information Interchange): 美国信息交换标准代码）\n",
    "'''\n",
    "class trieNode(object):\n",
    "    def __init__(self):\n",
    "        self.count = 0\n",
    "        self.next = [None] * 128 # 仅处理Ascii码\n",
    "    \n",
    "    \n",
    "class trieTreeAscii(object):\n",
    "    def __init__(self):\n",
    "        self.trie_root = trieNode()\n",
    "    \n",
    "    \n",
    "    def find_word_node(self, word):\n",
    "        # 找到当前词所在的节点\n",
    "        root = self.trie_root\n",
    "        for char in word:\n",
    "            char_idx = ord(char)\n",
    "            root.next[char_idx] = trieNode() if root.next[char_idx] == None else root.next[char_idx]\n",
    "            root = root.next[char_idx]\n",
    "        return root\n",
    "    \n",
    "    \n",
    "    def add_sentence(self, sentence, count=1):\n",
    "        # 对当句子中每个词的词频 +1，以空格分割\n",
    "        for word in sentence.split(' '):\n",
    "            self.find_word_node(word).count += count\n",
    "    \n",
    "    \n",
    "    def add_word(self, word, count=1):\n",
    "        # 对当前词的词频 +1\n",
    "        self.find_word_node(word).count += count\n",
    "    \n",
    "    \n",
    "    def dec_word(self, word, count=1):\n",
    "        # 对当前词的词频 -1\n",
    "        word_node = self.find_word_node(word)\n",
    "        word_node.count = 0 if word_node.count < count else word_node.count - count\n",
    "    \n",
    "    \n",
    "    def search_word(self, word):\n",
    "        # 获得一个词的词频\n",
    "        return self.find_word_node(word).count\n",
    "    \n",
    "    \n",
    "    def get_all_word(self, word='', node=None):\n",
    "        # 获取所有词及他们的词频\n",
    "        \n",
    "        if word == '':\n",
    "            node = self.trie_root\n",
    "            \n",
    "        if node == None:\n",
    "            return []\n",
    "        \n",
    "        word_set = []\n",
    "        for char_idx, next_node in enumerate(node.next):\n",
    "            \n",
    "            if next_node != None:\n",
    "                word_new = word + chr(char_idx)\n",
    "                \n",
    "                if next_node.count > 0:\n",
    "                    word_set.append((word_new, next_node.count))\n",
    "                word_set += self.get_all_word(word_new, next_node)\n",
    "                \n",
    "        return word_set"
   ]
  },
  {
   "cell_type": "code",
   "execution_count": 3,
   "metadata": {},
   "outputs": [
    {
     "name": "stdout",
     "output_type": "stream",
     "text": [
      "[(\"'\", 1), ('.', 2), ('?', 1), ('How', 1), ('I', 3), ('am', 2), ('are', 1), ('fine', 2), ('m', 1), ('ward', 1), ('word', 1), ('you', 1)]\n",
      "count of am is: 1\n",
      "count of am is: 0\n",
      "count of am is: 0\n",
      "[(\"'\", 1), ('.', 3), ('?', 1), ('How', 1), ('I', 3), ('To', 2), ('and', 1), ('are', 1), ('fine', 2), ('love', 1), ('m', 1), ('ward', 1), ('word', 1), ('work', 1), ('you', 1)]\n"
     ]
    }
   ],
   "source": [
    "t = trieTreeAscii()\n",
    "t.add_word('word')\n",
    "t.add_word('ward')\n",
    "t.add_word('I')\n",
    "t.add_word('am')\n",
    "t.add_sentence('How are you ?')\n",
    "t.add_sentence('I \\' m fine .')\n",
    "t.add_sentence('I am fine .')\n",
    "\n",
    "print(t.get_all_word())\n",
    "\n",
    "t.dec_word('am')\n",
    "print('count of am is:', t.search_word('am'))\n",
    "t.dec_word('am')\n",
    "print('count of am is:', t.search_word('am'))\n",
    "t.dec_word('am')\n",
    "print('count of am is:', t.search_word('am'))\n",
    "\n",
    "t.add_sentence('To love and To work .')\n",
    "print(t.get_all_word())"
   ]
  }
 ],
 "metadata": {
  "kernelspec": {
   "display_name": "Python (3.7env)",
   "language": "python",
   "name": "3.7env"
  },
  "language_info": {
   "codemirror_mode": {
    "name": "ipython",
    "version": 3
   },
   "file_extension": ".py",
   "mimetype": "text/x-python",
   "name": "python",
   "nbconvert_exporter": "python",
   "pygments_lexer": "ipython3",
   "version": "3.8.3"
  }
 },
 "nbformat": 4,
 "nbformat_minor": 4
}
